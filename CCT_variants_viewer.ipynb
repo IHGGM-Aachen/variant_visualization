{
 "cells": [
  {
   "cell_type": "code",
   "execution_count": null,
   "metadata": {},
   "outputs": [],
   "source": [
    "#File which is used to highlight the affected protein positions in the .pdbs created by esmfold & alphafold\n",
    "#@author: Jeremias Krause \n",
    "#@company: UKA Aachen (RWTH)\n",
    "#@mail: jerkrause@ukaachen.de\n",
    "#The code to highlight the protein positions was adapted from : https://william-dawson.github.io/using-py3dmol.html"
   ]
  },
  {
   "cell_type": "code",
   "execution_count": null,
   "metadata": {},
   "outputs": [],
   "source": [
    "import py3Dmol\n",
    "from Color_function import highlight_AA\n",
    "import os"
   ]
  },
  {
   "cell_type": "code",
   "execution_count": null,
   "metadata": {},
   "outputs": [],
   "source": [
    "#Get current working directory and set up paths\n",
    "cwd = os.getcwd()\n",
    "esm_input_folder = str(cwd) + \"/\" \"/esm_files/\"\n",
    "alphafold_input_folder = str(cwd) + \"/\" \"/alphafold_files/\""
   ]
  },
  {
   "cell_type": "markdown",
   "metadata": {},
   "source": [
    "$\\textbf{Uncomment the relevant variant}$ \n",
    "- The first line in the comments below details the variant \n",
    "- The first line starting with \"input_pdb\" is used to depict the esmfold prediction \n",
    "- The second line starting with \"input_pdb\" is used to depict the alphafold prediction \n",
    "- The line position is used for highlighting"
   ]
  },
  {
   "cell_type": "code",
   "execution_count": null,
   "metadata": {},
   "outputs": [],
   "source": [
    "#TCP1 Lys159Arg\n",
    "#Using esmfold variant predictions\n",
    "input_pdb = esm_input_folder+\"TCP1_p.(Lys159Arg).pdb\"\n",
    "#uncomment if you want to use the alphafold prediction\n",
    "#input_pdb = alphafold_input_folder+\"TCP1p159_352c2_unrelaxed_rank_001_alphafold2_ptm_model_1_seed_000.pdb\"\n",
    "position = \"159\"\n",
    "\n",
    "#TCP1 Pro38Leu\n",
    "#Using esmfold variant predictions\n",
    "#input_pdb = esm_input_folder+\"TCP1_p.(Pro38Leu).pdb\"\n",
    "#uncomment if you want to use the alphafold prediction\n",
    "#input_pdb = alphafold_input_folder+\"TCP1p38_7d1fa_unrelaxed_rank_002_alphafold2_ptm_model_1_seed_000.pdb\"\n",
    "#position = \"38\"\n",
    "\n",
    "#CCT3 Gln12Arg\n",
    "#Using esmfold variant predictions\n",
    "#input_pdb = esm_input_folder+\"CCT3_p.(Gln12Arg).pdb\"\n",
    "#uncomment if you want to use the alphafold prediction\n",
    "#input_pdb = alphafold_input_folder+\"CCT3p12_9736a_unrelaxed_rank_001_alphafold2_ptm_model_1_seed_000.pdb\"\n",
    "#position = \"12\"\n",
    "\n",
    "#CCT5 Lys176Arg\n",
    "#Using esmfold variant predictions\n",
    "#input_pdb = esm_input_folder+\"CCT5_p.(Lys176Arg).pdb\"\n",
    "#uncomment if you want to use the alphafold prediction\n",
    "#input_pdb = alphafold_input_folder+\"CCT5_63105_unrelaxed_rank_001_alphafold2_ptm_model_1_seed_000.pdb\"\n",
    "#position = \"176\"\n",
    "\n",
    "#CCT6A Val48Phe\n",
    "#Using esmfold variant predictions\n",
    "#input_pdb = esm_input_folder+\"CCT6A_p.Val48Phe.pdb\"\n",
    "#uncomment if you want to use the alphafold prediction\n",
    "#input_pdb = alphafold_input_folder+\"CCT6Ap48_a1d56_unrelaxed_rank_001_alphafold2_ptm_model_1_seed_000.pdb\"\n",
    "#position = \"48\"\n",
    "\n",
    "#CCT6A Arg314Cys\n",
    "#Using esmfold variant predictions\n",
    "#input_pdb = esm_input_folder+\"CCT6A_p.(Arg314Cys).pdb\"\n",
    "#uncomment if you want to use the alphafold prediction\n",
    "#input_pdb = alphafold_input_folder+\"CCT6A_pArg314Cys_719e2_unrelaxed_rank_004_alphafold2_ptm_model_1_seed_000.pdb\"\n",
    "#position = \"314\"\n",
    "\n",
    "#CCT7 Glu379Lys\n",
    "#Using esmfold variant predictions\n",
    "#input_pdb = esm_input_folder+\"CCT7_p.(Glu379Lys).pdb\n",
    "#uncomment if you want to use the alphafold prediction\n",
    "#input_pdb = alphafold_input_folder+\"CCCT7_pGlu379Lys_53904_unrelaxed_rank_002_alphafold2_ptm_model_1_seed_000.pdb\"\n",
    "#position = \"159\"\n"
   ]
  },
  {
   "cell_type": "markdown",
   "metadata": {},
   "source": [
    "$\\textbf{Visualize selected variant}$ \n",
    "- use the rotate function to rotate in a fixed degree "
   ]
  },
  {
   "cell_type": "code",
   "execution_count": null,
   "metadata": {},
   "outputs": [],
   "source": [
    "view = highlight_AA.color_pdb(input_pdb,position)\n",
    "view.rotate(90,\"x\")\n",
    "view.rotate(90,\"y\")\n",
    "view.rotate(90,\"z\")\n",
    "view.zoomTo()\n",
    "view.show()"
   ]
  },
  {
   "cell_type": "code",
   "execution_count": null,
   "metadata": {},
   "outputs": [],
   "source": []
  }
 ],
 "metadata": {
  "kernelspec": {
   "display_name": "cif",
   "language": "python",
   "name": "python3"
  },
  "language_info": {
   "codemirror_mode": {
    "name": "ipython",
    "version": 3
   },
   "file_extension": ".py",
   "mimetype": "text/x-python",
   "name": "python",
   "nbconvert_exporter": "python",
   "pygments_lexer": "ipython3",
   "version": "3.11.9"
  }
 },
 "nbformat": 4,
 "nbformat_minor": 2
}
